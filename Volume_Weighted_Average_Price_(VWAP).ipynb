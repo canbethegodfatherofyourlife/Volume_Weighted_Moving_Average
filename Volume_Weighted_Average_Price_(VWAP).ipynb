{
  "nbformat": 4,
  "nbformat_minor": 0,
  "metadata": {
    "colab": {
      "name": "Volume Weighted Average Price (VWAP).ipynb",
      "provenance": []
    },
    "kernelspec": {
      "name": "python3",
      "display_name": "Python 3"
    },
    "language_info": {
      "name": "python"
    }
  },
  "cells": [
    {
      "cell_type": "markdown",
      "metadata": {
        "id": "ScXhPI6QMz6s"
      },
      "source": [
        "**Volume-Weighted Average Price Formula**"
      ]
    },
    {
      "cell_type": "markdown",
      "metadata": {
        "id": "MKmkhN2OM5VI"
      },
      "source": [
        "VWAP is calculated by adding up the dollars traded for every transaction (price multiplied by the number of shares traded) and then dividing by the total shares traded."
      ]
    },
    {
      "cell_type": "markdown",
      "metadata": {
        "id": "mDl5Oz0IM80R"
      },
      "source": [
        "**Calculation**"
      ]
    },
    {
      "cell_type": "markdown",
      "metadata": {
        "id": "mmoln79YT2Ok"
      },
      "source": [
        "1. Find the average price the stock traded at over the first 5-minute period of the day. To do this, add the high, low, and close, then divide by three. Multiply this by the volume for that period. Record the result in a spreadsheet, under column PV.\n",
        "\n",
        "2. Divide PV by the volume for that period. This will give the VWAP value.\n",
        "\n",
        "3. To maintain the VWAP value throughout the day, continue to add the PV value from each period to the prior values. Divide this total by total volume up to that point. To make this easier in a spreadsheet, create columns for cumulative PV and cumulative volume. Both these cumulative values are divided by each other to produce VWAP."
      ]
    },
    {
      "cell_type": "markdown",
      "metadata": {
        "id": "lKe9VRGZUFnl"
      },
      "source": [
        "**Etility**"
      ]
    },
    {
      "cell_type": "markdown",
      "metadata": {
        "id": "QtcZD0wtUIUO"
      },
      "source": [
        "Traders may use VWAP as a trend confirmation tool, and build trading rules around it.\n",
        " For example, when the price is above VWAP, they may prefer to initiate long positions. When the price is below VWAP they may prefer to initiate short positions."
      ]
    },
    {
      "cell_type": "code",
      "metadata": {
        "id": "hXTt_ynGUAU_"
      },
      "source": [
        "import numpy as np\n",
        "import pandas as pd\n",
        "import talib as ta\n",
        "import yfinance as yf\n",
        "import matplotlib.pyplot as plt"
      ],
      "execution_count": 71,
      "outputs": []
    },
    {
      "cell_type": "code",
      "metadata": {
        "colab": {
          "base_uri": "https://localhost:8080/",
          "height": 256
        },
        "id": "X2otM8KqUdPP",
        "outputId": "696ce412-5900-4f63-a34f-57e8549a6b5a"
      },
      "source": [
        "# input\n",
        "symbol = 'AAPL'\n",
        "start = '2018-12-01'\n",
        "end = '2019-02-01'\n",
        "\n",
        "# Read data \n",
        "df = yf.download(symbol,start,end)\n",
        "\n",
        "# View Columns\n",
        "df.head()"
      ],
      "execution_count": 72,
      "outputs": [
        {
          "output_type": "stream",
          "name": "stdout",
          "text": [
            "\r[*********************100%***********************]  1 of 1 completed\n"
          ]
        },
        {
          "output_type": "execute_result",
          "data": {
            "text/html": [
              "<div>\n",
              "<style scoped>\n",
              "    .dataframe tbody tr th:only-of-type {\n",
              "        vertical-align: middle;\n",
              "    }\n",
              "\n",
              "    .dataframe tbody tr th {\n",
              "        vertical-align: top;\n",
              "    }\n",
              "\n",
              "    .dataframe thead th {\n",
              "        text-align: right;\n",
              "    }\n",
              "</style>\n",
              "<table border=\"1\" class=\"dataframe\">\n",
              "  <thead>\n",
              "    <tr style=\"text-align: right;\">\n",
              "      <th></th>\n",
              "      <th>Open</th>\n",
              "      <th>High</th>\n",
              "      <th>Low</th>\n",
              "      <th>Close</th>\n",
              "      <th>Adj Close</th>\n",
              "      <th>Volume</th>\n",
              "    </tr>\n",
              "    <tr>\n",
              "      <th>Date</th>\n",
              "      <th></th>\n",
              "      <th></th>\n",
              "      <th></th>\n",
              "      <th></th>\n",
              "      <th></th>\n",
              "      <th></th>\n",
              "    </tr>\n",
              "  </thead>\n",
              "  <tbody>\n",
              "    <tr>\n",
              "      <th>2018-12-03</th>\n",
              "      <td>46.115002</td>\n",
              "      <td>46.235001</td>\n",
              "      <td>45.302502</td>\n",
              "      <td>46.205002</td>\n",
              "      <td>44.854767</td>\n",
              "      <td>163210000</td>\n",
              "    </tr>\n",
              "    <tr>\n",
              "      <th>2018-12-04</th>\n",
              "      <td>45.237499</td>\n",
              "      <td>45.597500</td>\n",
              "      <td>44.067501</td>\n",
              "      <td>44.172501</td>\n",
              "      <td>42.881668</td>\n",
              "      <td>165377200</td>\n",
              "    </tr>\n",
              "    <tr>\n",
              "      <th>2018-12-06</th>\n",
              "      <td>42.939999</td>\n",
              "      <td>43.695000</td>\n",
              "      <td>42.605000</td>\n",
              "      <td>43.680000</td>\n",
              "      <td>42.403557</td>\n",
              "      <td>172393600</td>\n",
              "    </tr>\n",
              "    <tr>\n",
              "      <th>2018-12-07</th>\n",
              "      <td>43.372501</td>\n",
              "      <td>43.622501</td>\n",
              "      <td>42.075001</td>\n",
              "      <td>42.122501</td>\n",
              "      <td>40.891571</td>\n",
              "      <td>169126400</td>\n",
              "    </tr>\n",
              "    <tr>\n",
              "      <th>2018-12-10</th>\n",
              "      <td>41.250000</td>\n",
              "      <td>42.522499</td>\n",
              "      <td>40.832500</td>\n",
              "      <td>42.400002</td>\n",
              "      <td>41.160961</td>\n",
              "      <td>248104000</td>\n",
              "    </tr>\n",
              "  </tbody>\n",
              "</table>\n",
              "</div>"
            ],
            "text/plain": [
              "                 Open       High        Low      Close  Adj Close     Volume\n",
              "Date                                                                        \n",
              "2018-12-03  46.115002  46.235001  45.302502  46.205002  44.854767  163210000\n",
              "2018-12-04  45.237499  45.597500  44.067501  44.172501  42.881668  165377200\n",
              "2018-12-06  42.939999  43.695000  42.605000  43.680000  42.403557  172393600\n",
              "2018-12-07  43.372501  43.622501  42.075001  42.122501  40.891571  169126400\n",
              "2018-12-10  41.250000  42.522499  40.832500  42.400002  41.160961  248104000"
            ]
          },
          "metadata": {},
          "execution_count": 72
        }
      ]
    },
    {
      "cell_type": "code",
      "metadata": {
        "id": "6NdZBaFvWT9I"
      },
      "source": [
        "df['SMA'] = ta.SMA(df['Adj Close'], timeperiod=3)"
      ],
      "execution_count": 73,
      "outputs": []
    },
    {
      "cell_type": "code",
      "metadata": {
        "colab": {
          "base_uri": "https://localhost:8080/",
          "height": 238
        },
        "id": "3y8iidEEW0M0",
        "outputId": "c9e08b08-cb2d-4374-edab-15886d637f8b"
      },
      "source": [
        "df['VWMA'] = ((df['Adj Close']*df['Volume'])+(df['Adj Close'].shift(1)*df['Volume'].shift(1))+(df['Adj Close'].shift(2)*df['Volume'].shift(2))) / (df['Volume'].rolling(3).sum())\n",
        "df.head()"
      ],
      "execution_count": 74,
      "outputs": [
        {
          "output_type": "execute_result",
          "data": {
            "text/html": [
              "<div>\n",
              "<style scoped>\n",
              "    .dataframe tbody tr th:only-of-type {\n",
              "        vertical-align: middle;\n",
              "    }\n",
              "\n",
              "    .dataframe tbody tr th {\n",
              "        vertical-align: top;\n",
              "    }\n",
              "\n",
              "    .dataframe thead th {\n",
              "        text-align: right;\n",
              "    }\n",
              "</style>\n",
              "<table border=\"1\" class=\"dataframe\">\n",
              "  <thead>\n",
              "    <tr style=\"text-align: right;\">\n",
              "      <th></th>\n",
              "      <th>Open</th>\n",
              "      <th>High</th>\n",
              "      <th>Low</th>\n",
              "      <th>Close</th>\n",
              "      <th>Adj Close</th>\n",
              "      <th>Volume</th>\n",
              "      <th>SMA</th>\n",
              "      <th>VWMA</th>\n",
              "    </tr>\n",
              "    <tr>\n",
              "      <th>Date</th>\n",
              "      <th></th>\n",
              "      <th></th>\n",
              "      <th></th>\n",
              "      <th></th>\n",
              "      <th></th>\n",
              "      <th></th>\n",
              "      <th></th>\n",
              "      <th></th>\n",
              "    </tr>\n",
              "  </thead>\n",
              "  <tbody>\n",
              "    <tr>\n",
              "      <th>2018-12-03</th>\n",
              "      <td>46.115002</td>\n",
              "      <td>46.235001</td>\n",
              "      <td>45.302502</td>\n",
              "      <td>46.205002</td>\n",
              "      <td>44.854767</td>\n",
              "      <td>163210000</td>\n",
              "      <td>NaN</td>\n",
              "      <td>NaN</td>\n",
              "    </tr>\n",
              "    <tr>\n",
              "      <th>2018-12-04</th>\n",
              "      <td>45.237499</td>\n",
              "      <td>45.597500</td>\n",
              "      <td>44.067501</td>\n",
              "      <td>44.172501</td>\n",
              "      <td>42.881668</td>\n",
              "      <td>165377200</td>\n",
              "      <td>NaN</td>\n",
              "      <td>NaN</td>\n",
              "    </tr>\n",
              "    <tr>\n",
              "      <th>2018-12-06</th>\n",
              "      <td>42.939999</td>\n",
              "      <td>43.695000</td>\n",
              "      <td>42.605000</td>\n",
              "      <td>43.680000</td>\n",
              "      <td>42.403557</td>\n",
              "      <td>172393600</td>\n",
              "      <td>43.379997</td>\n",
              "      <td>43.359942</td>\n",
              "    </tr>\n",
              "    <tr>\n",
              "      <th>2018-12-07</th>\n",
              "      <td>43.372501</td>\n",
              "      <td>43.622501</td>\n",
              "      <td>42.075001</td>\n",
              "      <td>42.122501</td>\n",
              "      <td>40.891571</td>\n",
              "      <td>169126400</td>\n",
              "      <td>42.058932</td>\n",
              "      <td>42.055068</td>\n",
              "    </tr>\n",
              "    <tr>\n",
              "      <th>2018-12-10</th>\n",
              "      <td>41.250000</td>\n",
              "      <td>42.522499</td>\n",
              "      <td>40.832500</td>\n",
              "      <td>42.400002</td>\n",
              "      <td>41.160961</td>\n",
              "      <td>248104000</td>\n",
              "      <td>41.485363</td>\n",
              "      <td>41.446999</td>\n",
              "    </tr>\n",
              "  </tbody>\n",
              "</table>\n",
              "</div>"
            ],
            "text/plain": [
              "                 Open       High        Low  ...     Volume        SMA       VWMA\n",
              "Date                                         ...                                 \n",
              "2018-12-03  46.115002  46.235001  45.302502  ...  163210000        NaN        NaN\n",
              "2018-12-04  45.237499  45.597500  44.067501  ...  165377200        NaN        NaN\n",
              "2018-12-06  42.939999  43.695000  42.605000  ...  172393600  43.379997  43.359942\n",
              "2018-12-07  43.372501  43.622501  42.075001  ...  169126400  42.058932  42.055068\n",
              "2018-12-10  41.250000  42.522499  40.832500  ...  248104000  41.485363  41.446999\n",
              "\n",
              "[5 rows x 8 columns]"
            ]
          },
          "metadata": {},
          "execution_count": 74
        }
      ]
    },
    {
      "cell_type": "code",
      "metadata": {
        "colab": {
          "base_uri": "https://localhost:8080/"
        },
        "id": "dIZTNsDCYvfm",
        "outputId": "390f8220-fc1a-4975-d895-9a6d458fc4f8"
      },
      "source": [
        "def VWMA(close,volume, n):\n",
        "    cv =pd.Series(close.shift(n) * volume.shift(n))\n",
        "    tv = volume.rolling(n).sum()\n",
        "    vwma = cv/tv\n",
        "    return vwma\n",
        "\n",
        "VWMA(df['Adj Close'],df['Volume'], 3)"
      ],
      "execution_count": 75,
      "outputs": [
        {
          "output_type": "execute_result",
          "data": {
            "text/plain": [
              "Date\n",
              "2018-12-03          NaN\n",
              "2018-12-04          NaN\n",
              "2018-12-06          NaN\n",
              "2018-12-07    14.442271\n",
              "2018-12-10    12.027411\n",
              "2018-12-11    12.055768\n",
              "2018-12-12    11.929184\n",
              "2018-12-13    22.237560\n",
              "2018-12-14    17.878863\n",
              "2018-12-17    12.508724\n",
              "2018-12-18    11.136865\n",
              "2018-12-19    12.853799\n",
              "2018-12-20    11.933329\n",
              "2018-12-21     6.508516\n",
              "2018-12-24     9.687821\n",
              "2018-12-26    12.874265\n",
              "2018-12-27    23.527184\n",
              "2018-12-28     8.601264\n",
              "2018-12-31    17.134823\n",
              "2019-01-02    17.605905\n",
              "2019-01-03     9.816183\n",
              "2019-01-04     7.167482\n",
              "2019-01-07     6.935098\n",
              "2019-01-08    20.407111\n",
              "2019-01-09    14.966355\n",
              "2019-01-10    16.132389\n",
              "2019-01-11    13.910258\n",
              "2019-01-14    17.618322\n",
              "2019-01-15    15.147040\n",
              "2019-01-16    10.889420\n",
              "2019-01-17    13.253620\n",
              "2019-01-18    11.329574\n",
              "2019-01-22    12.233276\n",
              "2019-01-23    12.924882\n",
              "2019-01-24    16.266988\n",
              "2019-01-25    13.772298\n",
              "2019-01-28    10.145177\n",
              "2019-01-29     9.306117\n",
              "2019-01-30     9.961967\n",
              "2019-01-31     6.926741\n",
              "dtype: float64"
            ]
          },
          "metadata": {},
          "execution_count": 75
        }
      ]
    },
    {
      "cell_type": "code",
      "metadata": {
        "colab": {
          "base_uri": "https://localhost:8080/",
          "height": 497
        },
        "id": "yqokbLREY3P6",
        "outputId": "fbf6d0b0-6a3c-408f-d23b-a7d498065878"
      },
      "source": [
        "plt.figure(figsize=(15,8))\n",
        "plt.plot(df['Adj Close'])\n",
        "plt.plot(df['VWMA'], label='Volume Weighted Moving Average')\n",
        "plt.plot(df['SMA'], label='Simple Moving Average')\n",
        "plt.legend(loc='best')\n",
        "plt.xlabel('Date')\n",
        "plt.ylabel('Price')\n",
        "plt.show()"
      ],
      "execution_count": 76,
      "outputs": [
        {
          "output_type": "display_data",
          "data": {
            "image/png": "[encoded data removed]",
            "text/plain": [
              "<Figure size 1080x576 with 1 Axes>"
            ]
          },
          "metadata": {
            "needs_background": "light"
          }
        }
      ]
    }
  ]
}